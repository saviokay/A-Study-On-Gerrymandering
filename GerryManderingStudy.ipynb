{
 "cells": [
  {
   "cell_type": "code",
   "execution_count": null,
   "metadata": {},
   "outputs": [],
   "source": [
    "#!/usr/bin/env python3\n",
    "# -*- coding: utf-8 -*-\n",
    "\"\"\"\n",
    "Created on Tue Nov 27 12:47:24 2018\n",
    "\n",
    "@author: saviokay\n",
    "\"\"\""
   ]
  },
  {
   "cell_type": "code",
   "execution_count": 1,
   "metadata": {},
   "outputs": [],
   "source": [
    "# Importing the libraries\n",
    "import numpy as np\n",
    "import matplotlib.pyplot as plt\n",
    "import pandas as pd"
   ]
  },
  {
   "cell_type": "code",
   "execution_count": null,
   "metadata": {},
   "outputs": [],
   "source": [
    "# Importing the dataset\n",
    "dataset = pd.read_csv('IS733_GerryMandering multiple reg.csv')\n",
    "X = dataset.iloc[:, [0,1,2,3,4,5]].values\n",
    "y = dataset.iloc[:, [-1,-2]].values"
   ]
  },
  {
   "cell_type": "code",
   "execution_count": null,
   "metadata": {},
   "outputs": [],
   "source": []
  }
 ],
  {
   "cell_type": "code",
   "execution_count": 1,
   "metadata": {},
   "outputs": [],
   "source": [
    "# Encoding categorical data"
    "from sklearn.preprocessing import LabelEncoder, OneHotEncoder"
    "labelencoder = LabelEncoder()" 
    "X[:, 0] = labelencoder.fit_transform(X[:, 0])"
    "onehotencoder = OneHotEncoder(categorical_features = [0])"
    "X = onehotencoder.fit_transform(X).toarray()"
    "X[:, 1] = labelencoder.fit_transform(X[:, 1])"
    "onehotencoder = OneHotEncoder(categorical_features = [1])"
    "X = onehotencoder.fit_transform(X).toarray()"
   ]
  },
 "metadata": {
  "kernelspec": {
   "display_name": "Python 3",
   "language": "python",
   "name": "python3"
  },
  "language_info": {
   "codemirror_mode": {
    "name": "ipython",
    "version": 3
   },
   "file_extension": ".py",
   "mimetype": "text/x-python",
   "name": "python",
   "nbconvert_exporter": "python",
   "pygments_lexer": "ipython3",
   "version": "3.7.0"
  }
 },
 "nbformat": 4,
 "nbformat_minor": 2
}
